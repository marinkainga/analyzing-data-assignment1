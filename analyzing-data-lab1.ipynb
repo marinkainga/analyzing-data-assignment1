{
 "cells": [
  {
   "cell_type": "code",
   "execution_count": 23,
   "id": "63f17962-95d9-498b-8e70-fce3bc564b01",
   "metadata": {},
   "outputs": [
    {
     "name": "stdout",
     "output_type": "stream",
     "text": [
      "Requirement already satisfied: nltk in /opt/anaconda3/lib/python3.12/site-packages (3.9.1)\n",
      "Requirement already satisfied: click in /opt/anaconda3/lib/python3.12/site-packages (from nltk) (8.1.7)\n",
      "Requirement already satisfied: joblib in /opt/anaconda3/lib/python3.12/site-packages (from nltk) (1.4.2)\n",
      "Requirement already satisfied: regex>=2021.8.3 in /opt/anaconda3/lib/python3.12/site-packages (from nltk) (2023.10.3)\n",
      "Requirement already satisfied: tqdm in /opt/anaconda3/lib/python3.12/site-packages (from nltk) (4.66.4)\n",
      "Note: you may need to restart the kernel to use updated packages.\n"
     ]
    }
   ],
   "source": [
    "pip install nltk"
   ]
  },
  {
   "cell_type": "code",
   "execution_count": 25,
   "id": "defd6aaf-a0a6-42f0-a563-92d07778300c",
   "metadata": {},
   "outputs": [],
   "source": [
    "import nltk"
   ]
  },
  {
   "cell_type": "code",
   "execution_count": 27,
   "id": "4d10c571-891f-4c6a-b048-dba1776faedf",
   "metadata": {},
   "outputs": [
    {
     "name": "stderr",
     "output_type": "stream",
     "text": [
      "[nltk_data] Downloading package punkt_tab to\n",
      "[nltk_data]     /Users/marinkavette/nltk_data...\n",
      "[nltk_data]   Unzipping tokenizers/punkt_tab.zip.\n"
     ]
    },
    {
     "data": {
      "text/plain": [
       "True"
      ]
     },
     "execution_count": 27,
     "metadata": {},
     "output_type": "execute_result"
    }
   ],
   "source": [
    "nltk.download('punkt_tab')"
   ]
  },
  {
   "cell_type": "code",
   "execution_count": 59,
   "id": "f431970a-5b45-4d7e-8ce6-610836253f15",
   "metadata": {},
   "outputs": [
    {
     "name": "stderr",
     "output_type": "stream",
     "text": [
      "[nltk_data] Downloading package wordnet to\n",
      "[nltk_data]     /Users/marinkavette/nltk_data...\n"
     ]
    },
    {
     "data": {
      "text/plain": [
       "True"
      ]
     },
     "execution_count": 59,
     "metadata": {},
     "output_type": "execute_result"
    }
   ],
   "source": [
    "nltk.download('wordnet')"
   ]
  },
  {
   "cell_type": "code",
   "execution_count": 13,
   "id": "2d3e8e89-196f-4977-845b-eb8274291a73",
   "metadata": {},
   "outputs": [],
   "source": [
    "from nltk.stem import SnowballStemmer, PorterStemmer, LancasterStemmer"
   ]
  },
  {
   "cell_type": "code",
   "execution_count": 15,
   "id": "b1471970-fc33-4f8a-b987-4cc5ebf9bfea",
   "metadata": {},
   "outputs": [],
   "source": [
    "from nltk.tokenize import sent_tokenize, word_tokenize"
   ]
  },
  {
   "cell_type": "code",
   "execution_count": 51,
   "id": "8976d3f0-9c21-4030-91d6-df3738e7f818",
   "metadata": {},
   "outputs": [],
   "source": [
    "from nltk.stem import WordNetLemmatizer"
   ]
  },
  {
   "cell_type": "code",
   "execution_count": 17,
   "id": "a607fdf0-c39c-42cd-9e5e-834b189c1db8",
   "metadata": {},
   "outputs": [],
   "source": [
    "text = \"The weather is nice today. We are waiting for Summer.\""
   ]
  },
  {
   "cell_type": "code",
   "execution_count": 29,
   "id": "4242911f-ca32-4748-934d-241230b96f99",
   "metadata": {},
   "outputs": [],
   "source": [
    "sentences = sent_tokenize(text)"
   ]
  },
  {
   "cell_type": "code",
   "execution_count": 31,
   "id": "a16fb790-217e-4f3d-ba5a-bfa845f281ff",
   "metadata": {},
   "outputs": [
    {
     "data": {
      "text/plain": [
       "['The weather is nice today.', 'We are waiting for Summer.']"
      ]
     },
     "execution_count": 31,
     "metadata": {},
     "output_type": "execute_result"
    }
   ],
   "source": [
    "sentences"
   ]
  },
  {
   "cell_type": "code",
   "execution_count": 33,
   "id": "fe47f0aa-a6bc-4ee8-b161-53aaf1b42c1a",
   "metadata": {},
   "outputs": [],
   "source": [
    "words_1 = word_tokenize(sentences[0])"
   ]
  },
  {
   "cell_type": "code",
   "execution_count": 35,
   "id": "121a87bf-14ac-451a-a96a-26b63b24d271",
   "metadata": {},
   "outputs": [
    {
     "data": {
      "text/plain": [
       "['The', 'weather', 'is', 'nice', 'today', '.']"
      ]
     },
     "execution_count": 35,
     "metadata": {},
     "output_type": "execute_result"
    }
   ],
   "source": [
    "words_1"
   ]
  },
  {
   "cell_type": "code",
   "execution_count": 41,
   "id": "92bb0adc-72e5-4a14-ab60-d93a410e57dc",
   "metadata": {},
   "outputs": [],
   "source": [
    "words_2 = word_tokenize(sentences[1])"
   ]
  },
  {
   "cell_type": "code",
   "execution_count": 43,
   "id": "ca0f351e-ad3d-4c20-ab70-5481ecee7754",
   "metadata": {},
   "outputs": [
    {
     "data": {
      "text/plain": [
       "['We', 'are', 'waiting', 'for', 'Summer', '.']"
      ]
     },
     "execution_count": 43,
     "metadata": {},
     "output_type": "execute_result"
    }
   ],
   "source": [
    "words_2"
   ]
  },
  {
   "cell_type": "code",
   "execution_count": 37,
   "id": "f02a5e2c-4319-4025-8275-8027a3ecf9b2",
   "metadata": {},
   "outputs": [],
   "source": [
    "stemmer = PorterStemmer()"
   ]
  },
  {
   "cell_type": "code",
   "execution_count": 39,
   "id": "e275ff1d-680c-40fa-8039-46eb30a91dd9",
   "metadata": {},
   "outputs": [
    {
     "data": {
      "text/plain": [
       "'is'"
      ]
     },
     "execution_count": 39,
     "metadata": {},
     "output_type": "execute_result"
    }
   ],
   "source": [
    "stemmer.stem(words_1[2])"
   ]
  },
  {
   "cell_type": "code",
   "execution_count": 45,
   "id": "f40d1612-e45c-4057-9d03-4431fa1c6045",
   "metadata": {},
   "outputs": [
    {
     "data": {
      "text/plain": [
       "'wait'"
      ]
     },
     "execution_count": 45,
     "metadata": {},
     "output_type": "execute_result"
    }
   ],
   "source": [
    "stemmer.stem(words_2[2])"
   ]
  },
  {
   "cell_type": "code",
   "execution_count": 47,
   "id": "3e025f35-7199-4904-b006-7553b4d188f5",
   "metadata": {},
   "outputs": [
    {
     "data": {
      "text/plain": [
       "'summer'"
      ]
     },
     "execution_count": 47,
     "metadata": {},
     "output_type": "execute_result"
    }
   ],
   "source": [
    "stemmer.stem(\"summer\")"
   ]
  },
  {
   "cell_type": "code",
   "execution_count": 49,
   "id": "31565176-5a20-4a7e-86e0-d0e6d0f4dbc9",
   "metadata": {},
   "outputs": [
    {
     "data": {
      "text/plain": [
       "'unfortun'"
      ]
     },
     "execution_count": 49,
     "metadata": {},
     "output_type": "execute_result"
    }
   ],
   "source": [
    "stemmer.stem(\"unfortunate\")"
   ]
  },
  {
   "cell_type": "code",
   "execution_count": 53,
   "id": "01e4b41b-f48c-4a01-90ac-52a0b8d60f2b",
   "metadata": {},
   "outputs": [],
   "source": [
    "lemmatizer = WordNetLemmatizer()"
   ]
  },
  {
   "cell_type": "code",
   "execution_count": 61,
   "id": "db9443c8-5bd1-45e1-83d0-be63fe6828f4",
   "metadata": {},
   "outputs": [
    {
     "data": {
      "text/plain": [
       "'waiting'"
      ]
     },
     "execution_count": 61,
     "metadata": {},
     "output_type": "execute_result"
    }
   ],
   "source": [
    "lemmatizer.lemmatize(\"waiting\")"
   ]
  },
  {
   "cell_type": "code",
   "execution_count": 63,
   "id": "ea1a2920-ed77-4abc-8ea7-38319dd65583",
   "metadata": {},
   "outputs": [
    {
     "data": {
      "text/plain": [
       "'wait'"
      ]
     },
     "execution_count": 63,
     "metadata": {},
     "output_type": "execute_result"
    }
   ],
   "source": [
    "lemmatizer.lemmatize(\"waiting\", 'v')"
   ]
  },
  {
   "cell_type": "code",
   "execution_count": null,
   "id": "2a8c5921-e313-493f-b964-e278cb3722af",
   "metadata": {},
   "outputs": [],
   "source": []
  }
 ],
 "metadata": {
  "kernelspec": {
   "display_name": "Python 3 (ipykernel)",
   "language": "python",
   "name": "python3"
  },
  "language_info": {
   "codemirror_mode": {
    "name": "ipython",
    "version": 3
   },
   "file_extension": ".py",
   "mimetype": "text/x-python",
   "name": "python",
   "nbconvert_exporter": "python",
   "pygments_lexer": "ipython3",
   "version": "3.12.4"
  }
 },
 "nbformat": 4,
 "nbformat_minor": 5
}
